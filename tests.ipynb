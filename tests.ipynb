{
 "cells": [
  {
   "cell_type": "markdown",
   "id": "eabf8dee",
   "metadata": {},
   "source": []
  },
  {
   "cell_type": "code",
   "execution_count": 1,
   "id": "2ccc0005",
   "metadata": {},
   "outputs": [],
   "source": [
    "import numpy as np\n",
    "from scipy.integrate import odeint\n",
    "import matplotlib.pyplot as plt\n",
    "\n",
    "import double_pendulum as dp"
   ]
  },
  {
   "cell_type": "markdown",
   "id": "adfd8f75",
   "metadata": {},
   "source": [
    "# Initialize Test Data #\n",
    "Using a small L2 value and m2=0 for later plotting test"
   ]
  },
  {
   "cell_type": "code",
   "execution_count": 2,
   "id": "d34686dc",
   "metadata": {},
   "outputs": [],
   "source": [
    "# Pendulum rod lengths (m), bob masses (kg).\n",
    "L1, L2 = 1, 0.0001\n",
    "m1, m2 = 1, 0\n",
    "\n",
    "# Initial conditions for y\n",
    "y0 = np.array([3*np.pi/7, 0, 3*np.pi/4, 0]) # theta_1, z1, theta_2, z2\n",
    "\n",
    "# Maximum time, time point spacings and the time grid (all in s).\n",
    "tmax, dt = 30, 0.01\n",
    "t = np.arange(0, tmax+dt, dt)\n",
    "\n",
    "# Do the numerical integration of the Double Pendulum equation\n",
    "y = odeint(dp.double_pen, y0, t, args=(L1, L2, m1, m2))\n",
    "\n",
    "# Unpack theta as a function of time\n",
    "theta1 = y[:,0]\n",
    "theta2 = y[:,2]\n",
    "\n",
    "# Convert to Cartesian coordinates of the two bob positions.\n",
    "x1 = L1 * np.sin(theta1)\n",
    "y1 = -L1 * np.cos(theta1)\n",
    "\n",
    "x2 = x1 + L2 * np.sin(theta2)\n",
    "y2 = y1 - L2 * np.cos(theta2)"
   ]
  },
  {
   "cell_type": "markdown",
   "id": "771fc69b",
   "metadata": {},
   "source": [
    "# Test 1 #\n",
    "Basic tests of double pendulum function's returned values\n",
    "\n",
    "Expected result: Arrays will have equal values when compared to their (defined) initial conditions\n",
    "\n",
    "Shows: Function correctly reads in an array and returns expected values"
   ]
  },
  {
   "cell_type": "code",
   "execution_count": 3,
   "id": "518d7b6c",
   "metadata": {},
   "outputs": [],
   "source": [
    "# Calculate X1 using L1*sin(theta1) where theta1 = y0[0]\n",
    "X1 = L1*np.sin(y0[0])\n",
    "assert X1 == x1[0]\n",
    "\n",
    "# Calculate Y1 using -L1*cos(theta1) where theta1 = y0[0]\n",
    "Y1 = -L1*np.cos(y0[0])\n",
    "assert Y1 == y1[0]\n",
    "\n",
    "# Calculate X2 using X1+L2*sin(theta2) where theta2 = y0[2]\n",
    "X2 = X1 + L2 * np.sin(y0[2])\n",
    "assert X2 == x2[0]\n",
    "\n",
    "# Calculate Y2 using Y1-L2*cos(theta2) where theta2 = y0[2]\n",
    "Y2 = Y1 - L2 * np.cos(y0[2])\n",
    "assert Y2 == y2[0]"
   ]
  },
  {
   "cell_type": "markdown",
   "id": "25ff6730",
   "metadata": {},
   "source": [
    "# Test 2 #\n",
    "Test double pendulum function using a small value for L2 and 0 for m2\n",
    "\n",
    "Expected result: plot will have a path similar/identical to a single pendulum\n",
    "\n",
    "Shows: double pendulum function imported correctly and gives expected results"
   ]
  },
  {
   "cell_type": "code",
   "execution_count": null,
   "id": "20fb5b88",
   "metadata": {},
   "outputs": [],
   "source": [
    "# Plot\n",
    "fig = plt.figure(figsize=(12,10))\n",
    "\n",
    "plt.plot(x1, y1, label=\"Upper Arm\") # Plot arm 1 of pendulum\n",
    "plt.plot(x2, y2, label=\"Lower Arm\") # Pot arm 2 of pendulum\n",
    "\n",
    "plt.title(\"Test run of double pendulum\")\n",
    "plt.legend(loc=\"upper left\")\n",
    "\n",
    "plt.show()"
   ]
  },
  {
   "cell_type": "code",
   "execution_count": null,
   "id": "d4984fe2",
   "metadata": {},
   "outputs": [],
   "source": []
  }
 ],
 "metadata": {
  "kernelspec": {
   "display_name": "Python 3 (ipykernel)",
   "language": "python",
   "name": "python3"
  },
  "language_info": {
   "codemirror_mode": {
    "name": "ipython",
    "version": 3
   },
   "file_extension": ".py",
   "mimetype": "text/x-python",
   "name": "python",
   "nbconvert_exporter": "python",
   "pygments_lexer": "ipython3",
   "version": "3.9.9"
  }
 },
 "nbformat": 4,
 "nbformat_minor": 5
}
