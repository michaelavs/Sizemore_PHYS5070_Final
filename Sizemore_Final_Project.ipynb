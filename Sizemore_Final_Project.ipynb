{
 "cells": [
  {
   "cell_type": "markdown",
   "id": "7ff76a62",
   "metadata": {},
   "source": [
    "# Creating Chaos: The Double Pendulum and The Weather #\n",
    "\n",
    "The double pendulum is a simple system that shows rich dynamic motion along with sensitivity to changes in initial conditions. The double pendulum is not only a great analytical math and physics problem, but also shows why weather forecasts cannot be considered accurate past a certain timeframe (usually around 7 days). To better understand the overlap in the double pendulum and weather forecasts, one should first understand Chaos theory. Chaos theory concerns deterministic systems whose behavior can, in principle, be predicted. Chaotic systems are predictable for a while and then 'appear' to become random[[1]](https://en.wikipedia.org/wiki/Chaos_theory#Introduction). With this in mind, we can now apply the principals of weather forecasting to the double pendulum. \n",
    "\n",
    "In forecasting the weather, a meteorologist will take multiple runs of a numerical weather prediction (NWP) model, and then use the outcomes from each run to then determine the most likely outcome for the weather within the forecast period. In each run of the NWP, the forecaster will define a specific set of intial conditions based off of in-situ and remote sensing data collection methods, and then run the models based on each of these possible sets of conditions. These conditions can range from upper level atmospheric pressure and cloud cover, to surface wind speed and topological features. As a front moves from one place to another, it can encounter a range of conditions that can all create vastly different outcomes for the system in the matter of minutes to days. Both minor and major changes to the initial conditions defined in the NWP model result in vastly different weather forecasts, similar to the impacts of changing the initial conditions of the double pendulum. \n",
    "\n",
    "In this notebook we will explore three changes to intial conditions of the double pendulum system:\n",
    "- Changing mass of lower arm of the pendulum\n",
    "- Changing length of lower arm if the pendulum\n",
    "- Changing initial theta value of lower arm of the pendulum\n",
    "\n",
    "Each of these changes can be viewed as a different intial conditon used in weather forecasting, however, there are far too many conditions that impact a weather forecast so I do not want to assert any direct cross comparisons. For the sake of general knowledge, some of the specific conditons that impact weather forecasts are:\n",
    "- Temperature \n",
    "- Humidity \n",
    "- Precipitation \n",
    "- Air pressure \n",
    "- Wind speed \n",
    "- Wind direction\n",
    "\n",
    "While we can't do a direct one-to-one thought experiment of initial conditions, we can think about the two pendulum arms as \"short term\" (weather within 1-3 days) weather and \"long term\" (weather past 5 days) weather. The short term weather will most likely not experience a sudden and/or drastic change unless acted upon by a strong outside force. In comparison, we wouldn't expect the upper arm path to stray too far from a back and forth motion that is no higher that it's initial release point, except when being heavily influenced by the lower arm path motions. Likewise, we would expect the long term forecast to have many different possible paths depending on what conditions it experiences, just as we expect the same for the lower arm path depending on its initial conditions. Therefore, the upper arm will represent the short-term weather forecast and the the lower arm will represent the long term forecast in these double pendulum simulations."
   ]
  },
  {
   "cell_type": "markdown",
   "id": "ab2c12e4",
   "metadata": {},
   "source": [
    "# Import Relevant Packages"
   ]
  },
  {
   "cell_type": "code",
   "execution_count": 8,
   "id": "3fef83c9",
   "metadata": {},
   "outputs": [
    {
     "ename": "NameError",
     "evalue": "name 'double_pen' is not defined",
     "output_type": "error",
     "traceback": [
      "\u001b[0;31m---------------------------------------------------------------------------\u001b[0m",
      "\u001b[0;31mNameError\u001b[0m                                 Traceback (most recent call last)",
      "\u001b[0;32m/var/folders/s5/ltf5htr914dcsm9jv834xt3j4pg9rp/T/ipykernel_36504/3935762982.py\u001b[0m in \u001b[0;36m<module>\u001b[0;34m\u001b[0m\n\u001b[1;32m      6\u001b[0m \u001b[0;34m\u001b[0m\u001b[0m\n\u001b[1;32m      7\u001b[0m \u001b[0;32mfrom\u001b[0m \u001b[0mdouble_pendulum\u001b[0m \u001b[0;32mimport\u001b[0m \u001b[0;34m*\u001b[0m\u001b[0;34m\u001b[0m\u001b[0;34m\u001b[0m\u001b[0m\n\u001b[0;32m----> 8\u001b[0;31m \u001b[0mdouble_pen\u001b[0m\u001b[0;34m(\u001b[0m\u001b[0;34m)\u001b[0m\u001b[0;34m\u001b[0m\u001b[0;34m\u001b[0m\u001b[0m\n\u001b[0m\u001b[1;32m      9\u001b[0m \u001b[0mprint\u001b[0m\u001b[0;34m(\u001b[0m\u001b[0;34m\"All packages imported successfully!\"\u001b[0m\u001b[0;34m)\u001b[0m\u001b[0;34m\u001b[0m\u001b[0;34m\u001b[0m\u001b[0m\n",
      "\u001b[0;31mNameError\u001b[0m: name 'double_pen' is not defined"
     ]
    }
   ],
   "source": [
    "import sys\n",
    "import numpy as np\n",
    "from scipy.integrate import odeint\n",
    "import matplotlib.pyplot as plt\n",
    "import matplotlib.animation as animation\n",
    "\n",
    "from double_pendulum import *\n",
    "double_pen()\n",
    "print(\"All packages imported successfully!\")"
   ]
  },
  {
   "cell_type": "markdown",
   "id": "ae2443ea",
   "metadata": {},
   "source": [
    "# Test Double Pendulum Function #\n",
    "Using a small value for L2 and 0 for M2, we can verify that the double pendulum function is both imported correctly and gives expected results. The expected results with these conditions is that the pendulum will behave the same as a single pendulum would i.e. the path will go back and forth without straying. "
   ]
  },
  {
   "cell_type": "code",
   "execution_count": 4,
   "id": "98b60973",
   "metadata": {},
   "outputs": [
    {
     "ename": "NameError",
     "evalue": "name 'double_pen' is not defined",
     "output_type": "error",
     "traceback": [
      "\u001b[0;31m---------------------------------------------------------------------------\u001b[0m",
      "\u001b[0;31mNameError\u001b[0m                                 Traceback (most recent call last)",
      "\u001b[0;32m/var/folders/s5/ltf5htr914dcsm9jv834xt3j4pg9rp/T/ipykernel_36504/2856609608.py\u001b[0m in \u001b[0;36m<module>\u001b[0;34m\u001b[0m\n\u001b[1;32m     11\u001b[0m \u001b[0;34m\u001b[0m\u001b[0m\n\u001b[1;32m     12\u001b[0m \u001b[0;31m# Do the numerical integration of the Double Pendulum equation\u001b[0m\u001b[0;34m\u001b[0m\u001b[0;34m\u001b[0m\u001b[0m\n\u001b[0;32m---> 13\u001b[0;31m \u001b[0my\u001b[0m \u001b[0;34m=\u001b[0m \u001b[0modeint\u001b[0m\u001b[0;34m(\u001b[0m\u001b[0mdouble_pen\u001b[0m\u001b[0;34m,\u001b[0m \u001b[0my0\u001b[0m\u001b[0;34m,\u001b[0m \u001b[0mt\u001b[0m\u001b[0;34m,\u001b[0m \u001b[0margs\u001b[0m\u001b[0;34m=\u001b[0m\u001b[0;34m(\u001b[0m\u001b[0mL1\u001b[0m\u001b[0;34m,\u001b[0m \u001b[0mL2\u001b[0m\u001b[0;34m,\u001b[0m \u001b[0mm1\u001b[0m\u001b[0;34m,\u001b[0m \u001b[0mm2\u001b[0m\u001b[0;34m)\u001b[0m\u001b[0;34m)\u001b[0m\u001b[0;34m\u001b[0m\u001b[0;34m\u001b[0m\u001b[0m\n\u001b[0m\u001b[1;32m     14\u001b[0m \u001b[0;34m\u001b[0m\u001b[0m\n\u001b[1;32m     15\u001b[0m \u001b[0;31m# Unpack theta as a function of time\u001b[0m\u001b[0;34m\u001b[0m\u001b[0;34m\u001b[0m\u001b[0m\n",
      "\u001b[0;31mNameError\u001b[0m: name 'double_pen' is not defined"
     ]
    }
   ],
   "source": [
    "# Pendulum rod lengths (m), bob masses (kg).\n",
    "L1, L2 = 1, 0.0001\n",
    "m1, m2 = 1, 0\n",
    "\n",
    "# Initial conditions for y\n",
    "y0 = np.array([3*np.pi/7, 0, 3*np.pi/4, 0]) # theta_1, z1, theta_2, z2\n",
    "\n",
    "# Maximum time, time point spacings and the time grid (all in s).\n",
    "tmax, dt = 30, 0.01\n",
    "t = np.arange(0, tmax+dt, dt)\n",
    "\n",
    "# Do the numerical integration of the Double Pendulum equation\n",
    "y = odeint(double_pen, y0, t, args=(L1, L2, m1, m2))\n",
    "\n",
    "# Unpack theta as a function of time\n",
    "theta1 = y[:,0]\n",
    "theta2 = y[:,2]\n",
    "\n",
    "# Convert to Cartesian coordinates of the two bob positions.\n",
    "x1 = L1 * np.sin(theta1)\n",
    "y1 = -L1 * np.cos(theta1)\n",
    "\n",
    "x2 = x1 + L2 * np.sin(theta2)\n",
    "y2 = y1 - L2 * np.cos(theta2)\n",
    "\n",
    "# Simpletic SOlver to test pendulum motions Leap frog solver? Tracking energy conservation Dou\n",
    "\n",
    "# Pot\n",
    "%matplotlib inline\n",
    "fig = plt.figure(figsize=(12,10))\n",
    "\n",
    "plt.plot(x1, y1, label=\"Upper Arm\") # Plot arm 1 of pendulum\n",
    "plt.plot(x2, y2, label=\"Lower Arm\") # Pot arm 2 of pendulum\n",
    "\n",
    "plt.title(\"Initial run of double pendulum\")\n",
    "plt.legend(loc=\"upper left\")\n",
    "\n",
    "plt.show()"
   ]
  },
  {
   "cell_type": "code",
   "execution_count": null,
   "id": "e624193c",
   "metadata": {},
   "outputs": [],
   "source": []
  },
  {
   "cell_type": "markdown",
   "id": "0996031c",
   "metadata": {},
   "source": [
    "# Basic testing block # \n",
    "To further test the double pendulum function, we will now ensure arrays are being read correctly when tested against their (defined) initial conditions. "
   ]
  },
  {
   "cell_type": "code",
   "execution_count": null,
   "id": "e716db35",
   "metadata": {},
   "outputs": [],
   "source": [
    "# Calculate X1 using L1*sin(theta1) where theta1 = y0[0]\n",
    "X1 = L1*np.sin(y0[0])\n",
    "assert X1 == x1[0]\n",
    "\n",
    "# Calculate Y1 using -L1*cos(theta1) where theta1 = y0[0]\n",
    "Y1 = -L1*np.cos(y0[0])\n",
    "assert Y1 == y1[0]\n",
    "\n",
    "# Calculate X2 using X1+L2*sin(theta2) where theta2 = y0[2]\n",
    "X2 = X1 + L2 * np.sin(y0[2])\n",
    "assert X2 == x2[0]\n",
    "\n",
    "# Calculate Y2 using Y1-L2*cos(theta2) where theta2 = y0[2]\n",
    "Y2 = Y1 - L2 * np.cos(y0[2])\n",
    "assert Y2 == y2[0]"
   ]
  },
  {
   "cell_type": "markdown",
   "id": "4c0b636d",
   "metadata": {},
   "source": [
    "# Create Plot With Initial Conditions#\n",
    "This plot will represent our initial run of the similation and act as a reference to how each additional, later run changes with different initial conditions. X1, Y1 will remain unchanged as they represent the first arm of the pendulum. X2-Xn and Y2-Yn will all vary as we change initial conditions for the system, like theta_0, mass, and rod lengths."
   ]
  },
  {
   "cell_type": "code",
   "execution_count": null,
   "id": "9269e5c8",
   "metadata": {},
   "outputs": [],
   "source": [
    "# Pendulum rod lengths (m), bob masses (kg).\n",
    "L1, L2 = 1, 1\n",
    "m1, m2 = 1, 1\n",
    "\n",
    "# Initial conditions for y\n",
    "y0 = np.array([3*np.pi/7, 0, 3*np.pi/4, 0]) # theta_1, z1, theta_2, z2\n",
    "\n",
    "# Maximum time, time point spacings and the time grid (all in s).\n",
    "tmax, dt = 30, 0.01\n",
    "t = np.arange(0, tmax+dt, dt)\n",
    "\n",
    "# Do the numerical integration of the Double Pendulum equation\n",
    "y = odeint(double_pen, y0, t, args=(L1, L2, m1, m2))\n",
    "\n",
    "# Unpack theta as a function of time\n",
    "theta1 = y[:,0]\n",
    "theta2 = y[:,2]\n",
    "\n",
    "# Convert to Cartesian coordinates of the two bob positions.\n",
    "x1 = L1 * np.sin(theta1)\n",
    "y1 = -L1 * np.cos(theta1)\n",
    "\n",
    "x2 = x1 + L2 * np.sin(theta2)\n",
    "y2 = y1 - L2 * np.cos(theta2)"
   ]
  },
  {
   "cell_type": "markdown",
   "id": "9a07273e",
   "metadata": {},
   "source": [
    "# Plot Initial Results"
   ]
  },
  {
   "cell_type": "code",
   "execution_count": null,
   "id": "0425bba2",
   "metadata": {},
   "outputs": [],
   "source": [
    "fig = plt.figure(figsize=(12,10))\n",
    "\n",
    "plt.plot(x1, y1, label=\"Upper Arm\") # Plot arm 1 of pendulum\n",
    "plt.plot(x2, y2, label=\"Lower Arm\") # Pot arm 2 of pendulum\n",
    "\n",
    "plt.title(\"Initial run of double pendulum\")\n",
    "plt.legend(loc=\"upper left\")\n",
    "\n",
    "plt.show()"
   ]
  },
  {
   "cell_type": "markdown",
   "id": "a8585a20",
   "metadata": {},
   "source": []
  },
  {
   "cell_type": "markdown",
   "id": "77858733",
   "metadata": {},
   "source": [
    "# Vary Mass 2 #\n",
    "\n",
    "Now we will experiment with different initial values. First, let's see what happens when we vary the mass at the end of the lower arm. Below, you will see an array of values for m2. For the sake of not using the same initial conditions twice, I have defined masses that are both lower and higher than the initial run from above. What do you predict will happen to the movement of the lower arm of the pendulum in each case (m2 < m1 and m2 > m1)?"
   ]
  },
  {
   "cell_type": "code",
   "execution_count": null,
   "id": "cacb232c",
   "metadata": {
    "scrolled": false
   },
   "outputs": [],
   "source": [
    "# Create array with different test values for mass 2 \n",
    "\n",
    "L1, L2 = 1, 1\n",
    "m1, m2 = 1, [0, 0.5, 1.5, 2]\n",
    "\n",
    "# Initialize figure for plotting\n",
    "plt.figure(figsize=(14,12))\n",
    "\n",
    "# Use a for loop to generate 4 subplots using a different m2 value each time\n",
    "for i in range(len(m2)):\n",
    "    ax = plt.subplot(2,2,i+1)\n",
    "    y = odeint(double_pen, y0, t, args=(L1, L2, m1, m2[i]))\n",
    "    \n",
    "    # Unpack theta values for pendulum arms \n",
    "    theta1, theta2 = y[:,0], y[:,2]\n",
    "\n",
    "    # Convert to Cartesian coordinates\n",
    "    x1 = L1 * np.sin(theta1)\n",
    "    y1 = -L1 * np.cos(theta1)\n",
    "\n",
    "    x2 = x1 + L2 * np.sin(theta2)\n",
    "    y2 = y1 - L2 * np.cos(theta2)\n",
    "\n",
    "    \n",
    "    # Create plots and add features for comprehension\n",
    "    title = \"Mass = \" + str(m2[i])\n",
    "\n",
    "    plt.title(title)\n",
    "    \n",
    "    ax.plot(x1, y1, label=\"Mass 1\")\n",
    "    ax.plot(x2, y2, label=\"Mass 2\")\n",
    "    \n",
    "    plt.legend(loc = \"upper left\")\n",
    "    \n"
   ]
  },
  {
   "cell_type": "markdown",
   "id": "38f7731b",
   "metadata": {},
   "source": [
    "# Vary Length 2 #\n",
    "Next, we will change the length of the lower arm of the double pendulum. Similar to the above run, we will create an array of possible values to use for L2, some shorter than L1 and some longer, and see how that changes the path of the double pendulum. Which run is the most chaotic (has more flips of the lower arm)? Is that the anticipated outcome? "
   ]
  },
  {
   "cell_type": "code",
   "execution_count": null,
   "id": "fe32e07e",
   "metadata": {},
   "outputs": [],
   "source": [
    "# Create array with different test values for pendulum arm 2 \n",
    "\n",
    "L1, L2 = 1, [0.25, 0.75, 1.25, 1.75]\n",
    "m1, m2 = 1, 1\n",
    "\n",
    "# Initialize figure for plotting\n",
    "plt.figure(figsize=(14,12))\n",
    "\n",
    "for i in range(len(L2)):\n",
    "    ax = plt.subplot(2,2,i+1)\n",
    "    y = odeint(double_pen, y0, t, args=(L1, L2[i], m1, m2))\n",
    "    \n",
    "    # Unpack theta values for pendulum arms \n",
    "    theta1, theta2 = y[:,0], y[:,2]\n",
    "\n",
    "    # Convert to Cartesian coordinates\n",
    "    x1 = L1 * np.sin(theta1)\n",
    "    y1 = -L1 * np.cos(theta1)\n",
    "\n",
    "    x2 = x1 + L2[i] * np.sin(theta2)\n",
    "    y2 = y1 - L2[i] * np.cos(theta2)\n",
    "\n",
    "    \n",
    "    # Create plots and add features for comprehension\n",
    "    title = \"Length Arm 2 = \" + str(L2[i])\n",
    "\n",
    "    plt.title(title)\n",
    "    \n",
    "    ax.plot(x1, y1, label=\"Pendulum 1\")\n",
    "    ax.plot(x2, y2, label=\"Pendulum 2\")\n",
    "    \n",
    "    plt.legend(loc = \"upper left\")"
   ]
  },
  {
   "cell_type": "code",
   "execution_count": null,
   "id": "d9b3fa3e",
   "metadata": {},
   "outputs": [],
   "source": []
  },
  {
   "cell_type": "markdown",
   "id": "040e26aa",
   "metadata": {},
   "source": [
    "# Vary Theta 2 #\n",
    "For the final component of this notebook, we will now look at what happens when we vary the initial position (theta value) of the lower arm. "
   ]
  },
  {
   "cell_type": "code",
   "execution_count": null,
   "id": "65e0e6de",
   "metadata": {},
   "outputs": [],
   "source": [
    "L1, L2 = 1, 1\n",
    "m1, m2 = 1, 1\n",
    "\n",
    "T_2 = [np.pi, np.pi/2, np.pi/3, np.pi/4] # change var name to avoid any conflicts if re-running prior cell(s)\n",
    "\n",
    "T_str = ['pi', 'pi/2', 'pi/3', 'pi/4'] # For plot title purposes, create array of strings of each T_2 value\n",
    "\n",
    "# Initialize figure for plotting\n",
    "plt.figure(figsize=(14,12))\n",
    "\n",
    "for i in range(len(T_2)):\n",
    "    ax = plt.subplot(2,2,i+1)\n",
    "    y1 = np.array([3*np.pi/7, 0, T_2[i], 0]) # theta_1, z1, theta_2, z2\n",
    "    y = odeint(double_pen, y1, t, args=(L1, L2, m1, m2))\n",
    "    \n",
    "    # Unpack theta values for pendulum arms \n",
    "    theta1, theta2 = y[:,0], y[:,2]\n",
    "\n",
    "    # Convert to Cartesian coordinates\n",
    "    x1 = L1 * np.sin(theta1)\n",
    "    y1 = -L1 * np.cos(theta1)\n",
    "\n",
    "    x2 = x1 + L2 * np.sin(theta2)\n",
    "    y2 = y1 - L2 * np.cos(theta2)\n",
    "\n",
    "    \n",
    "    # Create plots and add features for comprehension\n",
    "    title = \"Theta_2 = \" + str(T_str[i])\n",
    "\n",
    "    plt.title(title)\n",
    "    \n",
    "    ax.plot(x1, y1, label=\"Pendulum 1\")\n",
    "    ax.plot(x2, y2, label=\"Pendulum 2\")\n",
    "    \n",
    "    plt.legend(loc = \"upper left\")"
   ]
  },
  {
   "cell_type": "code",
   "execution_count": null,
   "id": "f606d3a3",
   "metadata": {},
   "outputs": [],
   "source": []
  },
  {
   "cell_type": "markdown",
   "id": "50045099",
   "metadata": {},
   "source": [
    "# Bonus: animation of single plots #\n",
    "\n",
    "The double pendulum simulation is used in Atmospheric Sciences to as an example of how the weather is considered a chaotic system. The application that is usually used is that if the lower arm flips, the weather will be sunny, if it doesnt, the weather will be cloudy. Then you run the similation for a specific time period and count how many flips occur. What the audience should notice is that as time moves on, it becomes more and more difficult to predict if the lower arm will spin or not. Then, to add another level to the demonstration, the instructor can change the initial conditions and run the simulation again, once again counting how many times the lower arm spins in the time period. \n",
    "\n",
    "To bring more life to this project, let's animate a singular double pendulum plot using matplotlib. Try to vary different parameters below and see how the resulting animation changes! To start the animation after making any desired changes to L, m, or y0, simply run this cell as you would a normal cell. To stop the animation, click the 'power' symbol in the top right corner of the displayed plot/animation below.\n",
    "\n"
   ]
  },
  {
   "cell_type": "code",
   "execution_count": null,
   "id": "8266b08c",
   "metadata": {},
   "outputs": [],
   "source": [
    "# Enable interactive plot\n",
    "%matplotlib notebook\n",
    " \n",
    "# Pendulum rod lengths (m), bob masses (kg).\n",
    "L1, L2 = 1, 0.25\n",
    "m1, m2 = 1, 1\n",
    "\n",
    "\n",
    "# create a time array from 0 to 100 with time steps of 0.05 sec\n",
    "dt = 0.05\n",
    "t = np.arange(0, 20, dt)\n",
    "\n",
    "# Initialize initial conditions for plot\n",
    "y0 = np.array([3*np.pi/7, 0, 3*np.pi/4, 0]) # theta_1, z1, theta_2, z2\n",
    "y = odeint(double_pen, y0, t, args=(L1, L2, m1, m2))\n",
    "\n",
    "# Unpack theta values for pendulum arms \n",
    "theta1, theta2 = y[:,0], y[:,2]\n",
    "\n",
    "# Convert to Cartesian coordinates\n",
    "x1 = L1 * np.sin(theta1)\n",
    "y1 = -L1 * np.cos(theta1)\n",
    "\n",
    "x2 = x1 + L2 * np.sin(theta2)\n",
    "y2 = y1 - L2 * np.cos(theta2)\n",
    "\n",
    "\n",
    "fig = plt.figure()\n",
    "ax = fig.add_subplot(111, autoscale_on=False, xlim=(-2, 2), ylim=(-2, 2))\n",
    "ax.set_aspect('equal')\n",
    "ax.grid()\n",
    "\n",
    "line = ax.plot([], [], 'o-', lw=2)\n",
    "time_template = 'time = %.1fs'\n",
    "time_text = ax.text(0.05, 0.9, '', transform=ax.transAxes)\n",
    "\n",
    "def init():\n",
    "    line.set_data([], [])\n",
    "    time_text.set_text('')\n",
    "    return line, time_text\n",
    "\n",
    "\n",
    "def animate(i):\n",
    "    x = [0, x1[i], x2[i]]\n",
    "    y = [0, y1[i], y2[i]]\n",
    "\n",
    "    line.set_data(x, y)\n",
    "    time_text.set_text(time_template % (i*dt))\n",
    "    return line, time_text\n",
    "\n",
    "\n",
    "ani = animation.FuncAnimation(fig, animate, range(1, len(y)),\n",
    "                              interval=dt*100, blit = True, init_func = init)\n",
    "plt.show()"
   ]
  }
 ],
 "metadata": {
  "kernelspec": {
   "display_name": "Python 3 (ipykernel)",
   "language": "python",
   "name": "python3"
  },
  "language_info": {
   "codemirror_mode": {
    "name": "ipython",
    "version": 3
   },
   "file_extension": ".py",
   "mimetype": "text/x-python",
   "name": "python",
   "nbconvert_exporter": "python",
   "pygments_lexer": "ipython3",
   "version": "3.9.9"
  }
 },
 "nbformat": 4,
 "nbformat_minor": 5
}
